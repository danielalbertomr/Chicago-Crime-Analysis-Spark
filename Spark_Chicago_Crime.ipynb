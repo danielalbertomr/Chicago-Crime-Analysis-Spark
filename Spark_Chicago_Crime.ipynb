{
 "cells": [
  {
   "cell_type": "markdown",
   "metadata": {},
   "source": [
    "# Crime Analysis in Chicago\n",
    "\n",
    "- Is Trump telling the truth?\n",
    "- What can we gather about the crimes that may actually help us better allocate resources and reduce crime in chicago?\n",
    "\n"
   ]
  },
  {
   "cell_type": "markdown",
   "metadata": {},
   "source": [
    "## PySpark environment setup"
   ]
  },
  {
   "cell_type": "code",
   "execution_count": 30,
   "metadata": {},
   "outputs": [],
   "source": [
    "import findspark\n",
    "findspark.init()"
   ]
  },
  {
   "cell_type": "code",
   "execution_count": 31,
   "metadata": {},
   "outputs": [],
   "source": [
    "from pyspark.sql.session import SparkSession\n",
    "spark = SparkSession.builder.getOrCreate()"
   ]
  },
  {
   "cell_type": "markdown",
   "metadata": {},
   "source": [
    "## Data source and DataFrame setup"
   ]
  },
  {
   "cell_type": "code",
   "execution_count": 32,
   "metadata": {},
   "outputs": [],
   "source": [
    "crimesDF = spark.read \\\n",
    "                .option(\"inferSchema\", \"true\") \\\n",
    "                .option(\"header\", \"true\") \\\n",
    "                .csv(\"Chicago_Crimes_2012_to_2017.csv\") \\\n",
    "                .cache()"
   ]
  },
  {
   "cell_type": "markdown",
   "metadata": {},
   "source": [
    "## Data set metadata analysis"
   ]
  },
  {
   "cell_type": "code",
   "execution_count": 33,
   "metadata": {
    "scrolled": false
   },
   "outputs": [
    {
     "name": "stdout",
     "output_type": "stream",
     "text": [
      "root\n",
      " |-- _c0: integer (nullable = true)\n",
      " |-- ID: integer (nullable = true)\n",
      " |-- Case Number: string (nullable = true)\n",
      " |-- Date: string (nullable = true)\n",
      " |-- Block: string (nullable = true)\n",
      " |-- IUCR: string (nullable = true)\n",
      " |-- Primary Type: string (nullable = true)\n",
      " |-- Description: string (nullable = true)\n",
      " |-- Location Description: string (nullable = true)\n",
      " |-- Arrest: boolean (nullable = true)\n",
      " |-- Domestic: boolean (nullable = true)\n",
      " |-- Beat: integer (nullable = true)\n",
      " |-- District: double (nullable = true)\n",
      " |-- Ward: double (nullable = true)\n",
      " |-- Community Area: double (nullable = true)\n",
      " |-- FBI Code: string (nullable = true)\n",
      " |-- X Coordinate: double (nullable = true)\n",
      " |-- Y Coordinate: double (nullable = true)\n",
      " |-- Year: integer (nullable = true)\n",
      " |-- Updated On: string (nullable = true)\n",
      " |-- Latitude: double (nullable = true)\n",
      " |-- Longitude: double (nullable = true)\n",
      " |-- Location: string (nullable = true)\n",
      "\n"
     ]
    },
    {
     "data": {
      "text/markdown": [
       "This DataFrame has **1456714 rows**."
      ],
      "text/plain": [
       "<IPython.core.display.Markdown object>"
      ]
     },
     "metadata": {},
     "output_type": "display_data"
    }
   ],
   "source": [
    "from IPython.display import display, Markdown\n",
    "crimesDF.printSchema()\n",
    "display(Markdown(\"This DataFrame has **%d rows**.\" % crimesDF.count()))"
   ]
  },
  {
   "cell_type": "code",
   "execution_count": 147,
   "metadata": {},
   "outputs": [
    {
     "data": {
      "text/plain": [
       "[Row(Date='05/03/2016 11:40:00 PM', Year=2016, Location Description='APARTMENT', Domestic=True, Arrest=True, Primary Type='BATTERY', Community Area=29.0)]"
      ]
     },
     "metadata": {},
     "output_type": "display_data"
    }
   ],
   "source": [
    "# Let's examine a row from our dataframe.\n",
    "display(crimesDF.take(1))"
   ]
  },
  {
   "cell_type": "markdown",
   "metadata": {},
   "source": [
    "\n",
    "##  Let's do some basic profiling to understand our dataset"
   ]
  },
  {
   "cell_type": "code",
   "execution_count": 36,
   "metadata": {},
   "outputs": [
    {
     "name": "stdout",
     "output_type": "stream",
     "text": [
      "Checking for nulls on some important columns in our analysis:\n",
      "+----+----+------+--------------------+--------------+------------+--------+\n",
      "|Date|Year|Arrest|Location Description|Community Area|Primary Type|Domestic|\n",
      "+----+----+------+--------------------+--------------+------------+--------+\n",
      "|   0|   0|     0|                1658|            40|           0|       0|\n",
      "+----+----+------+--------------------+--------------+------------+--------+\n",
      "\n"
     ]
    }
   ],
   "source": [
    "# Checking our important columns in our dataset for nulls.\n",
    "from pyspark.sql.functions import when, count, col, countDistinct, desc, first, lit\n",
    "crimesDF.select([count(when(col(c).isNull(), c)).alias(c) for c in [\"Date\", \"Year\", \"Arrest\", \"Location Description\", \"Community Area\", \"Primary Type\", \"Domestic\"]]).show()\n",
    "\n",
    "# Our most important value doesn't have any nulls, we have 40 in community area and 1658 in Location but considering the size of our data thats almost nothing."
   ]
  },
  {
   "cell_type": "code",
   "execution_count": 37,
   "metadata": {
    "scrolled": false
   },
   "outputs": [
    {
     "name": "stdout",
     "output_type": "stream",
     "text": [
      "Checking amount of distinct values in some columns:\n",
      "+--------------------+--------------+------------+\n",
      "|Location Description|Community Area|Primary Type|\n",
      "+--------------------+--------------+------------+\n",
      "|                 142|            78|          33|\n",
      "+--------------------+--------------+------------+\n",
      "\n"
     ]
    }
   ],
   "source": [
    "# Checking amount of distinct values in some of our columns.\n",
    "crimesDF.select([countDistinct(c).alias(c) for c in [\"Location Description\", \"Community Area\", \"Primary Type\"]]).show()"
   ]
  },
  {
   "cell_type": "code",
   "execution_count": 148,
   "metadata": {
    "scrolled": true
   },
   "outputs": [
    {
     "name": "stdout",
     "output_type": "stream",
     "text": [
      "+--------------------+----+--------------------+--------+------+--------------------+--------------+\n",
      "|                Date|Year|Location Description|Domestic|Arrest|        Primary Type|Community Area|\n",
      "+--------------------+----+--------------------+--------+------+--------------------+--------------+\n",
      "|05/03/2016 11:40:...|2016|           APARTMENT|    true|  true|             BATTERY|          29.0|\n",
      "|05/03/2016 09:40:...|2016|           RESIDENCE|    true| false|             BATTERY|          42.0|\n",
      "|05/03/2016 11:31:...|2016|              STREET|   false| false|PUBLIC PEACE VIOL...|          25.0|\n",
      "|05/03/2016 10:10:...|2016|            SIDEWALK|   false| false|             BATTERY|          25.0|\n",
      "|05/03/2016 10:00:...|2016|           RESIDENCE|    true| false|               THEFT|          25.0|\n",
      "|05/03/2016 10:35:...|2016|              STREET|   false| false|             BATTERY|          44.0|\n",
      "|05/03/2016 10:30:...|2016|CHA HALLWAY/STAIR...|   false| false|             BATTERY|          35.0|\n",
      "|05/03/2016 09:30:...|2016|RESIDENCE PORCH/H...|   false| false|             BATTERY|          38.0|\n",
      "|05/03/2016 04:00:...|2016|            SIDEWALK|   false| false|             BATTERY|           1.0|\n",
      "|05/03/2016 10:30:...|2016|              STREET|    true| false|             BATTERY|          67.0|\n",
      "|05/03/2016 09:44:...|2016|VEHICLE NON-COMME...|   false|  true|   WEAPONS VIOLATION|          43.0|\n",
      "|05/03/2016 11:11:...|2016|            SIDEWALK|    true|  true|             BATTERY|           8.0|\n",
      "|05/03/2016 05:30:...|2016|               OTHER|   false| false|               THEFT|          28.0|\n",
      "|05/03/2016 09:00:...|2016|              STREET|   false| false|               THEFT|          35.0|\n",
      "|05/03/2016 10:08:...|2016|              STREET|   false| false|               THEFT|          24.0|\n",
      "|05/03/2016 04:00:...|2016|           RESIDENCE|    true| false|             BATTERY|          66.0|\n",
      "|05/03/2016 09:45:...|2016|              STREET|   false| false|               THEFT|          24.0|\n",
      "|05/03/2016 10:00:...|2016|            SIDEWALK|   false| false|             ROBBERY|          40.0|\n",
      "|05/03/2016 08:00:...|2016|              STREET|   false| false| MOTOR VEHICLE THEFT|          73.0|\n",
      "|05/03/2016 11:00:...|2016|           APARTMENT|    true| false|             BATTERY|          39.0|\n",
      "+--------------------+----+--------------------+--------+------+--------------------+--------------+\n",
      "only showing top 20 rows\n",
      "\n"
     ]
    }
   ],
   "source": [
    "# Let's extract the columns we're gonnq use and make things more manageable\n",
    "crimesDF = crimesDF.select(\"Date\", \"Year\", \"Location Description\", \"Domestic\", \"Arrest\", \"Primary Type\", \"Community Area\").cache()\n",
    "crimesDF.show()"
   ]
  },
  {
   "cell_type": "markdown",
   "metadata": {},
   "source": [
    "## Is Trump telling the truth?"
   ]
  },
  {
   "cell_type": "code",
   "execution_count": 39,
   "metadata": {
    "scrolled": true
   },
   "outputs": [
    {
     "name": "stdout",
     "output_type": "stream",
     "text": [
      "+----+------+\n",
      "|Year| count|\n",
      "+----+------+\n",
      "|2012|335670|\n",
      "|2013|306703|\n",
      "|2014|274527|\n",
      "|2015|262995|\n",
      "|2016|265462|\n",
      "|2017| 11357|\n",
      "+----+------+\n",
      "\n"
     ]
    }
   ],
   "source": [
    "crimesDF.groupby(\"Year\").count().orderBy(\"Year\").show()"
   ]
  },
  {
   "cell_type": "code",
   "execution_count": 40,
   "metadata": {},
   "outputs": [
    {
     "data": {
      "text/plain": [
       "<AxesSubplot:xlabel='Year'>"
      ]
     },
     "execution_count": 40,
     "metadata": {},
     "output_type": "execute_result"
    },
    {
     "data": {
      "image/png": "[encoded data removed]",
      "text/plain": [
       "<Figure size 432x288 with 1 Axes>"
      ]
     },
     "metadata": {
      "needs_background": "light"
     },
     "output_type": "display_data"
    }
   ],
   "source": [
    "pdf = crimesDF.where(col(\"Year\") < 2017).groupby(\"Year\").count().orderBy(\"Year\").toPandas()\n",
    "pdf.plot.line(x=\"Year\", y=\"count\")"
   ]
  },
  {
   "cell_type": "code",
   "execution_count": 42,
   "metadata": {},
   "outputs": [
    {
     "data": {
      "text/html": [
       "<div>\n",
       "<style scoped>\n",
       "    .dataframe tbody tr th:only-of-type {\n",
       "        vertical-align: middle;\n",
       "    }\n",
       "\n",
       "    .dataframe tbody tr th {\n",
       "        vertical-align: top;\n",
       "    }\n",
       "\n",
       "    .dataframe thead th {\n",
       "        text-align: right;\n",
       "    }\n",
       "</style>\n",
       "<table border=\"1\" class=\"dataframe\">\n",
       "  <thead>\n",
       "    <tr style=\"text-align: right;\">\n",
       "      <th></th>\n",
       "      <th>Year</th>\n",
       "      <th>count</th>\n",
       "    </tr>\n",
       "  </thead>\n",
       "  <tbody>\n",
       "    <tr>\n",
       "      <th>0</th>\n",
       "      <td>2012</td>\n",
       "      <td>26.964280</td>\n",
       "    </tr>\n",
       "    <tr>\n",
       "      <th>1</th>\n",
       "      <td>2013</td>\n",
       "      <td>28.111561</td>\n",
       "    </tr>\n",
       "    <tr>\n",
       "      <th>2</th>\n",
       "      <td>2014</td>\n",
       "      <td>28.797532</td>\n",
       "    </tr>\n",
       "    <tr>\n",
       "      <th>3</th>\n",
       "      <td>2015</td>\n",
       "      <td>26.387194</td>\n",
       "    </tr>\n",
       "    <tr>\n",
       "      <th>4</th>\n",
       "      <td>2016</td>\n",
       "      <td>18.980494</td>\n",
       "    </tr>\n",
       "  </tbody>\n",
       "</table>\n",
       "</div>"
      ],
      "text/plain": [
       "   Year      count\n",
       "0  2012  26.964280\n",
       "1  2013  28.111561\n",
       "2  2014  28.797532\n",
       "3  2015  26.387194\n",
       "4  2016  18.980494"
      ]
     },
     "execution_count": 42,
     "metadata": {},
     "output_type": "execute_result"
    }
   ],
   "source": [
    "# the percentage of arrests did drop significantly in 2016\n",
    "length = crimesDF.groupby(\"Year\").count().orderBy(\"Year\").toPandas()\n",
    "arrestsDF = crimesDF.where(col(\"Arrest\") == 1).groupby(\"Year\").count().orderBy(\"Year\").toPandas()\n",
    "arrestsDF[\"count\"] = arrestsDF[\"count\"]/length[\"count\"]*100\n",
    "arrestsDF = arrestsDF[:5]\n",
    "arrestsDF"
   ]
  },
  {
   "cell_type": "code",
   "execution_count": 43,
   "metadata": {},
   "outputs": [
    {
     "data": {
      "text/plain": [
       "<AxesSubplot:xlabel='Year'>"
      ]
     },
     "execution_count": 43,
     "metadata": {},
     "output_type": "execute_result"
    },
    {
     "data": {
      "image/png": "[encoded data removed]",
      "text/plain": [
       "<Figure size 432x288 with 1 Axes>"
      ]
     },
     "metadata": {
      "needs_background": "light"
     },
     "output_type": "display_data"
    }
   ],
   "source": [
    "arrestsDF.plot.line(x=\"Year\", y=\"count\")"
   ]
  },
  {
   "cell_type": "markdown",
   "metadata": {},
   "source": [
    "## When are these crimes happening?"
   ]
  },
  {
   "cell_type": "code",
   "execution_count": 52,
   "metadata": {},
   "outputs": [
    {
     "name": "stdout",
     "output_type": "stream",
     "text": [
      "+--------------------+-------------------+\n",
      "|                Date|          timestamp|\n",
      "+--------------------+-------------------+\n",
      "|05/03/2016 11:40:...|2016-05-03 23:40:00|\n",
      "|05/03/2016 09:40:...|2016-05-03 21:40:00|\n",
      "|05/03/2016 11:31:...|2016-05-03 23:31:00|\n",
      "|05/03/2016 10:10:...|2016-05-03 22:10:00|\n",
      "|05/03/2016 10:00:...|2016-05-03 22:00:00|\n",
      "|05/03/2016 10:35:...|2016-05-03 22:35:00|\n",
      "|05/03/2016 10:30:...|2016-05-03 22:30:00|\n",
      "|05/03/2016 09:30:...|2016-05-03 21:30:00|\n",
      "|05/03/2016 04:00:...|2016-05-03 16:00:00|\n",
      "|05/03/2016 10:30:...|2016-05-03 22:30:00|\n",
      "|05/03/2016 09:44:...|2016-05-03 21:44:00|\n",
      "|05/03/2016 11:11:...|2016-05-03 23:11:00|\n",
      "|05/03/2016 05:30:...|2016-05-03 17:30:00|\n",
      "|05/03/2016 09:00:...|2016-05-03 09:00:00|\n",
      "|05/03/2016 10:08:...|2016-05-03 22:08:00|\n",
      "|05/03/2016 04:00:...|2016-05-03 16:00:00|\n",
      "|05/03/2016 09:45:...|2016-05-03 21:45:00|\n",
      "|05/03/2016 10:00:...|2016-05-03 22:00:00|\n",
      "|05/03/2016 08:00:...|2016-05-03 20:00:00|\n",
      "|05/03/2016 11:00:...|2016-05-03 23:00:00|\n",
      "+--------------------+-------------------+\n",
      "only showing top 20 rows\n",
      "\n"
     ]
    }
   ],
   "source": [
    "import datetime\n",
    "from pyspark.sql.functions import to_timestamp, year, month, dayofmonth, hour\n",
    "timeDF = crimesDF.select(\"Date\").withColumn(\"timestamp\", to_timestamp(\"Date\", \"MM/dd/yyyy hh:mm:ss a\")).cache()\n",
    "timeDF.show()"
   ]
  },
  {
   "cell_type": "code",
   "execution_count": 55,
   "metadata": {},
   "outputs": [
    {
     "name": "stdout",
     "output_type": "stream",
     "text": [
      "+-----+------+\n",
      "|Month| count|\n",
      "+-----+------+\n",
      "|    1|123809|\n",
      "|    2| 98073|\n",
      "|    3|119010|\n",
      "|    4|118064|\n",
      "|    5|129735|\n",
      "|    6|130575|\n",
      "|    7|135762|\n",
      "|    8|133738|\n",
      "|    9|124067|\n",
      "|   10|123571|\n",
      "|   11|111834|\n",
      "|   12|108476|\n",
      "+-----+------+\n",
      "\n"
     ]
    }
   ],
   "source": [
    "# Let's check what's happening on different months\n",
    "monthDF = timeDF.select(month(\"timestamp\").alias(\"Month\")).groupby(\"Month\").count().orderBy(\"Month\")\n",
    "monthDF.show() "
   ]
  },
  {
   "cell_type": "code",
   "execution_count": 56,
   "metadata": {},
   "outputs": [
    {
     "data": {
      "text/plain": [
       "<AxesSubplot:xlabel='Month'>"
      ]
     },
     "execution_count": 56,
     "metadata": {},
     "output_type": "execute_result"
    },
    {
     "data": {
      "image/png": "[encoded data removed]",
      "text/plain": [
       "<Figure size 432x288 with 1 Axes>"
      ]
     },
     "metadata": {
      "needs_background": "light"
     },
     "output_type": "display_data"
    }
   ],
   "source": [
    "pmonthDF = monthDF.toPandas()\n",
    "pmonthDF.plot.bar(x=\"Month\", y=\"count\")\n"
   ]
  },
  {
   "cell_type": "code",
   "execution_count": 57,
   "metadata": {},
   "outputs": [
    {
     "name": "stdout",
     "output_type": "stream",
     "text": [
      "+----+-----+\n",
      "|Hour|count|\n",
      "+----+-----+\n",
      "|   0|71288|\n",
      "|   1|43771|\n",
      "|   2|37520|\n",
      "|   3|31217|\n",
      "|   4|23325|\n",
      "|   5|20233|\n",
      "|   6|24609|\n",
      "|   7|34522|\n",
      "|   8|50637|\n",
      "|   9|67712|\n",
      "|  10|65006|\n",
      "|  11|67005|\n",
      "|  12|83930|\n",
      "|  13|69666|\n",
      "|  14|73698|\n",
      "|  15|79930|\n",
      "|  16|76065|\n",
      "|  17|75556|\n",
      "|  18|82414|\n",
      "|  19|84193|\n",
      "+----+-----+\n",
      "only showing top 20 rows\n",
      "\n"
     ]
    }
   ],
   "source": [
    "# Let's check which hours of the day have the most crimes\n",
    "hourDF = timeDF.select(hour(\"timestamp\").alias(\"Hour\")).groupby(\"Hour\").count().orderBy(\"Hour\")\n",
    "hourDF.show()"
   ]
  },
  {
   "cell_type": "code",
   "execution_count": 58,
   "metadata": {},
   "outputs": [
    {
     "data": {
      "text/plain": [
       "<AxesSubplot:xlabel='Hour'>"
      ]
     },
     "execution_count": 58,
     "metadata": {},
     "output_type": "execute_result"
    },
    {
     "data": {
      "image/png": "[encoded data removed]",
      "text/plain": [
       "<Figure size 432x288 with 1 Axes>"
      ]
     },
     "metadata": {
      "needs_background": "light"
     },
     "output_type": "display_data"
    }
   ],
   "source": [
    "phourDF = hourDF.toPandas()\n",
    "phourDF.plot.bar(x=\"Hour\", y=\"count\")"
   ]
  },
  {
   "cell_type": "markdown",
   "metadata": {},
   "source": [
    "## What are the most common types of crimes?"
   ]
  },
  {
   "cell_type": "code",
   "execution_count": 90,
   "metadata": {},
   "outputs": [
    {
     "name": "stdout",
     "output_type": "stream",
     "text": [
      "+--------------------+------+\n",
      "|        Primary Type| count|\n",
      "+--------------------+------+\n",
      "|OFFENSE INVOLVING...| 11398|\n",
      "|            STALKING|   828|\n",
      "|PUBLIC PEACE VIOL...| 13122|\n",
      "|           OBSCENITY|   187|\n",
      "|NON-CRIMINAL (SUB...|     4|\n",
      "|               ARSON|  2217|\n",
      "|            GAMBLING|  2212|\n",
      "|   CRIMINAL TRESPASS| 36912|\n",
      "|             ASSAULT| 91289|\n",
      "|      NON - CRIMINAL|    38|\n",
      "|LIQUOR LAW VIOLATION|  1953|\n",
      "| MOTOR VEHICLE THEFT| 61138|\n",
      "|               THEFT|329460|\n",
      "|             BATTERY|263700|\n",
      "|             ROBBERY| 57313|\n",
      "|            HOMICIDE|  2649|\n",
      "|    PUBLIC INDECENCY|    62|\n",
      "| CRIM SEXUAL ASSAULT|  6823|\n",
      "|   HUMAN TRAFFICKING|    28|\n",
      "|        INTIMIDATION|   662|\n",
      "+--------------------+------+\n",
      "only showing top 20 rows\n",
      "\n"
     ]
    }
   ],
   "source": [
    "primaryDF = crimesDF.groupby(\"Primary Type\").count()\n",
    "primaryDF.show()"
   ]
  },
  {
   "cell_type": "code",
   "execution_count": 149,
   "metadata": {},
   "outputs": [
    {
     "data": {
      "text/plain": [
       "<AxesSubplot:xlabel='Primary Type'>"
      ]
     },
     "execution_count": 149,
     "metadata": {},
     "output_type": "execute_result"
    },
    {
     "data": {
      "image/png": "[encoded data removed]",
      "text/plain": [
       "<Figure size 432x288 with 1 Axes>"
      ]
     },
     "metadata": {
      "needs_background": "light"
     },
     "output_type": "display_data"
    }
   ],
   "source": [
    "primaryPDF = primaryDF.toPandas()\n",
    "primaryPDF = primaryPDF.sort_values(by=[\"count\"])\n",
    "primaryPDF.plot.bar(x=\"Primary Type\", y=\"count\")"
   ]
  },
  {
   "cell_type": "code",
   "execution_count": 92,
   "metadata": {},
   "outputs": [
    {
     "data": {
      "text/html": [
       "<div>\n",
       "<style scoped>\n",
       "    .dataframe tbody tr th:only-of-type {\n",
       "        vertical-align: middle;\n",
       "    }\n",
       "\n",
       "    .dataframe tbody tr th {\n",
       "        vertical-align: top;\n",
       "    }\n",
       "\n",
       "    .dataframe thead th {\n",
       "        text-align: right;\n",
       "    }\n",
       "</style>\n",
       "<table border=\"1\" class=\"dataframe\">\n",
       "  <thead>\n",
       "    <tr style=\"text-align: right;\">\n",
       "      <th></th>\n",
       "      <th>Primary Type</th>\n",
       "      <th>count</th>\n",
       "    </tr>\n",
       "  </thead>\n",
       "  <tbody>\n",
       "    <tr>\n",
       "      <th>0</th>\n",
       "      <td>OFFENSE INVOLVING CHILDREN</td>\n",
       "      <td>15.976487</td>\n",
       "    </tr>\n",
       "    <tr>\n",
       "      <th>1</th>\n",
       "      <td>STALKING</td>\n",
       "      <td>17.149758</td>\n",
       "    </tr>\n",
       "    <tr>\n",
       "      <th>2</th>\n",
       "      <td>PUBLIC PEACE VIOLATION</td>\n",
       "      <td>75.819235</td>\n",
       "    </tr>\n",
       "    <tr>\n",
       "      <th>3</th>\n",
       "      <td>OBSCENITY</td>\n",
       "      <td>79.679144</td>\n",
       "    </tr>\n",
       "    <tr>\n",
       "      <th>4</th>\n",
       "      <td>NON-CRIMINAL (SUBJECT SPECIFIED)</td>\n",
       "      <td>25.000000</td>\n",
       "    </tr>\n",
       "    <tr>\n",
       "      <th>5</th>\n",
       "      <td>ARSON</td>\n",
       "      <td>9.833108</td>\n",
       "    </tr>\n",
       "    <tr>\n",
       "      <th>6</th>\n",
       "      <td>GAMBLING</td>\n",
       "      <td>99.683544</td>\n",
       "    </tr>\n",
       "    <tr>\n",
       "      <th>7</th>\n",
       "      <td>CRIMINAL TRESPASS</td>\n",
       "      <td>70.240030</td>\n",
       "    </tr>\n",
       "    <tr>\n",
       "      <th>8</th>\n",
       "      <td>ASSAULT</td>\n",
       "      <td>23.385074</td>\n",
       "    </tr>\n",
       "    <tr>\n",
       "      <th>9</th>\n",
       "      <td>NON - CRIMINAL</td>\n",
       "      <td>15.789474</td>\n",
       "    </tr>\n",
       "    <tr>\n",
       "      <th>10</th>\n",
       "      <td>LIQUOR LAW VIOLATION</td>\n",
       "      <td>97.900666</td>\n",
       "    </tr>\n",
       "    <tr>\n",
       "      <th>11</th>\n",
       "      <td>MOTOR VEHICLE THEFT</td>\n",
       "      <td>6.958029</td>\n",
       "    </tr>\n",
       "    <tr>\n",
       "      <th>12</th>\n",
       "      <td>THEFT</td>\n",
       "      <td>11.131245</td>\n",
       "    </tr>\n",
       "    <tr>\n",
       "      <th>13</th>\n",
       "      <td>BATTERY</td>\n",
       "      <td>22.943117</td>\n",
       "    </tr>\n",
       "    <tr>\n",
       "      <th>14</th>\n",
       "      <td>ROBBERY</td>\n",
       "      <td>9.526634</td>\n",
       "    </tr>\n",
       "    <tr>\n",
       "      <th>15</th>\n",
       "      <td>HOMICIDE</td>\n",
       "      <td>33.295583</td>\n",
       "    </tr>\n",
       "    <tr>\n",
       "      <th>16</th>\n",
       "      <td>PUBLIC INDECENCY</td>\n",
       "      <td>100.000000</td>\n",
       "    </tr>\n",
       "    <tr>\n",
       "      <th>17</th>\n",
       "      <td>CRIM SEXUAL ASSAULT</td>\n",
       "      <td>11.856954</td>\n",
       "    </tr>\n",
       "    <tr>\n",
       "      <th>18</th>\n",
       "      <td>HUMAN TRAFFICKING</td>\n",
       "      <td>14.285714</td>\n",
       "    </tr>\n",
       "    <tr>\n",
       "      <th>19</th>\n",
       "      <td>INTIMIDATION</td>\n",
       "      <td>17.824773</td>\n",
       "    </tr>\n",
       "    <tr>\n",
       "      <th>20</th>\n",
       "      <td>PROSTITUTION</td>\n",
       "      <td>99.554566</td>\n",
       "    </tr>\n",
       "    <tr>\n",
       "      <th>21</th>\n",
       "      <td>DECEPTIVE PRACTICE</td>\n",
       "      <td>11.811378</td>\n",
       "    </tr>\n",
       "    <tr>\n",
       "      <th>22</th>\n",
       "      <td>CONCEALED CARRY LICENSE VIOLATION</td>\n",
       "      <td>85.555556</td>\n",
       "    </tr>\n",
       "    <tr>\n",
       "      <th>23</th>\n",
       "      <td>SEX OFFENSE</td>\n",
       "      <td>24.298874</td>\n",
       "    </tr>\n",
       "    <tr>\n",
       "      <th>24</th>\n",
       "      <td>CRIMINAL DAMAGE</td>\n",
       "      <td>6.538870</td>\n",
       "    </tr>\n",
       "    <tr>\n",
       "      <th>25</th>\n",
       "      <td>NARCOTICS</td>\n",
       "      <td>99.317510</td>\n",
       "    </tr>\n",
       "    <tr>\n",
       "      <th>26</th>\n",
       "      <td>NON-CRIMINAL</td>\n",
       "      <td>7.526882</td>\n",
       "    </tr>\n",
       "    <tr>\n",
       "      <th>27</th>\n",
       "      <td>OTHER OFFENSE</td>\n",
       "      <td>21.135945</td>\n",
       "    </tr>\n",
       "    <tr>\n",
       "      <th>28</th>\n",
       "      <td>KIDNAPPING</td>\n",
       "      <td>8.917197</td>\n",
       "    </tr>\n",
       "    <tr>\n",
       "      <th>29</th>\n",
       "      <td>BURGLARY</td>\n",
       "      <td>5.351511</td>\n",
       "    </tr>\n",
       "    <tr>\n",
       "      <th>30</th>\n",
       "      <td>WEAPONS VIOLATION</td>\n",
       "      <td>79.765566</td>\n",
       "    </tr>\n",
       "    <tr>\n",
       "      <th>31</th>\n",
       "      <td>OTHER NARCOTIC VIOLATION</td>\n",
       "      <td>70.000000</td>\n",
       "    </tr>\n",
       "    <tr>\n",
       "      <th>32</th>\n",
       "      <td>INTERFERENCE WITH PUBLIC OFFICER</td>\n",
       "      <td>94.608555</td>\n",
       "    </tr>\n",
       "  </tbody>\n",
       "</table>\n",
       "</div>"
      ],
      "text/plain": [
       "                         Primary Type       count\n",
       "0          OFFENSE INVOLVING CHILDREN   15.976487\n",
       "1                            STALKING   17.149758\n",
       "2              PUBLIC PEACE VIOLATION   75.819235\n",
       "3                           OBSCENITY   79.679144\n",
       "4    NON-CRIMINAL (SUBJECT SPECIFIED)   25.000000\n",
       "5                               ARSON    9.833108\n",
       "6                            GAMBLING   99.683544\n",
       "7                   CRIMINAL TRESPASS   70.240030\n",
       "8                             ASSAULT   23.385074\n",
       "9                      NON - CRIMINAL   15.789474\n",
       "10               LIQUOR LAW VIOLATION   97.900666\n",
       "11                MOTOR VEHICLE THEFT    6.958029\n",
       "12                              THEFT   11.131245\n",
       "13                            BATTERY   22.943117\n",
       "14                            ROBBERY    9.526634\n",
       "15                           HOMICIDE   33.295583\n",
       "16                   PUBLIC INDECENCY  100.000000\n",
       "17                CRIM SEXUAL ASSAULT   11.856954\n",
       "18                  HUMAN TRAFFICKING   14.285714\n",
       "19                       INTIMIDATION   17.824773\n",
       "20                       PROSTITUTION   99.554566\n",
       "21                 DECEPTIVE PRACTICE   11.811378\n",
       "22  CONCEALED CARRY LICENSE VIOLATION   85.555556\n",
       "23                        SEX OFFENSE   24.298874\n",
       "24                    CRIMINAL DAMAGE    6.538870\n",
       "25                          NARCOTICS   99.317510\n",
       "26                       NON-CRIMINAL    7.526882\n",
       "27                      OTHER OFFENSE   21.135945\n",
       "28                         KIDNAPPING    8.917197\n",
       "29                           BURGLARY    5.351511\n",
       "30                  WEAPONS VIOLATION   79.765566\n",
       "31           OTHER NARCOTIC VIOLATION   70.000000\n",
       "32   INTERFERENCE WITH PUBLIC OFFICER   94.608555"
      ]
     },
     "execution_count": 92,
     "metadata": {},
     "output_type": "execute_result"
    }
   ],
   "source": [
    "# arrest ratios of all the crime types\n",
    "primaryDF_arrests = crimesDF.where(col(\"Arrest\")==1).groupby(\"Primary Type\").count()\n",
    "primaryPDF_arrests = primaryDF_arrests.toPandas()\n",
    "primaryPDF[\"count\"] = primaryPDF_arrests[\"count\"]/primaryPDF[\"count\"]*100\n",
    "primaryPDF"
   ]
  },
  {
   "cell_type": "code",
   "execution_count": 100,
   "metadata": {},
   "outputs": [
    {
     "name": "stdout",
     "output_type": "stream",
     "text": [
      "+----+-----+\n",
      "|Year|count|\n",
      "+----+-----+\n",
      "|2012|  503|\n",
      "|2013|  422|\n",
      "|2014|  424|\n",
      "|2015|  497|\n",
      "|2016|  772|\n",
      "|2017|   31|\n",
      "+----+-----+\n",
      "\n"
     ]
    }
   ],
   "source": [
    "# Let's look how homicide has changed (one of trump's main talking points)\n",
    "homicideDF = crimesDF.where(col(\"Primary Type\")==\"HOMICIDE\").groupby(\"Year\").count().orderBy(\"Year\")\n",
    "homicideDF.show()"
   ]
  },
  {
   "cell_type": "code",
   "execution_count": 103,
   "metadata": {
    "scrolled": true
   },
   "outputs": [
    {
     "data": {
      "text/plain": [
       "<AxesSubplot:xlabel='Year'>"
      ]
     },
     "execution_count": 103,
     "metadata": {},
     "output_type": "execute_result"
    },
    {
     "data": {
      "image/png": "[encoded data removed]",
      "text/plain": [
       "<Figure size 432x288 with 1 Axes>"
      ]
     },
     "metadata": {
      "needs_background": "light"
     },
     "output_type": "display_data"
    }
   ],
   "source": [
    "homicidePDF = homicideDF.toPandas()\n",
    "homicidePDF = homicidePDF[:5]\n",
    "homicidePDF.plot.bar(x=\"Year\", y=\"count\")"
   ]
  },
  {
   "cell_type": "markdown",
   "metadata": {},
   "source": [
    "## Where are these crimes happening?"
   ]
  },
  {
   "cell_type": "code",
   "execution_count": 107,
   "metadata": {},
   "outputs": [
    {
     "name": "stdout",
     "output_type": "stream",
     "text": [
      "+--------------------+------+\n",
      "|Location Description| count|\n",
      "+--------------------+------+\n",
      "|              STREET|330471|\n",
      "|           RESIDENCE|233530|\n",
      "|           APARTMENT|185023|\n",
      "|            SIDEWALK|160891|\n",
      "|               OTHER| 55774|\n",
      "|PARKING LOT/GARAG...| 41768|\n",
      "|               ALLEY| 31771|\n",
      "|RESIDENTIAL YARD ...| 30645|\n",
      "|  SMALL RETAIL STORE| 28803|\n",
      "|SCHOOL, PUBLIC, B...| 25959|\n",
      "|          RESTAURANT| 25872|\n",
      "|    RESIDENCE-GARAGE| 25720|\n",
      "|RESIDENCE PORCH/H...| 25511|\n",
      "|VEHICLE NON-COMME...| 25104|\n",
      "|    DEPARTMENT STORE| 20709|\n",
      "|  GROCERY FOOD STORE| 15999|\n",
      "|         GAS STATION| 15387|\n",
      "|       PARK PROPERTY| 12270|\n",
      "|       BAR OR TAVERN|  9871|\n",
      "|COMMERCIAL / BUSI...|  7705|\n",
      "+--------------------+------+\n",
      "only showing top 20 rows\n",
      "\n"
     ]
    }
   ],
   "source": [
    "locationDF = crimesDF.groupby(\"Location Description\").count().orderBy(desc(\"count\"))\n",
    "locationDF.show()"
   ]
  },
  {
   "cell_type": "code",
   "execution_count": 109,
   "metadata": {},
   "outputs": [
    {
     "data": {
      "text/plain": [
       "<AxesSubplot:xlabel='Location Description'>"
      ]
     },
     "execution_count": 109,
     "metadata": {},
     "output_type": "execute_result"
    },
    {
     "data": {
      "image/png": "[encoded data removed]",
      "text/plain": [
       "<Figure size 432x288 with 1 Axes>"
      ]
     },
     "metadata": {
      "needs_background": "light"
     },
     "output_type": "display_data"
    }
   ],
   "source": [
    "#This is a huge sample (1600+) so lets plot first 25\n",
    "locationPDF = locationDF.toPandas()\n",
    "locationPDF = locationPDF[:26]\n",
    "locationPDF.plot.bar(x=\"Location Description\", y=\"count\")"
   ]
  },
  {
   "cell_type": "code",
   "execution_count": 131,
   "metadata": {},
   "outputs": [
    {
     "name": "stdout",
     "output_type": "stream",
     "text": [
      "15.11% of crimes seem to be happening at home.\n"
     ]
    }
   ],
   "source": [
    "# How many of these crimes are happening at home?\n",
    "domestic = crimesDF.where(col(\"Domestic\")==1).count()/crimesDF.count()*100\n",
    "print(\"{}%\".format(round(domestic, 2)), \"of crimes seem to be happening at home.\")"
   ]
  },
  {
   "cell_type": "code",
   "execution_count": 146,
   "metadata": {},
   "outputs": [
    {
     "name": "stdout",
     "output_type": "stream",
     "text": [
      "19.4% of domestic crimes end in arrests.\n"
     ]
    }
   ],
   "source": [
    "dom = crimesDF.where(col(\"Domestic\")==1).count()\n",
    "domestic_arrests = crimesDF.where((col(\"Domestic\")==1) & (col(\"Arrest\")==1)).count()/dom*100\n",
    "print(\"{}%\".format(round(domestic_arrests, 2)), \"of domestic crimes end in arrests.\")"
   ]
  }
 ],
 "metadata": {
  "kernelspec": {
   "display_name": "Python 3",
   "language": "python",
   "name": "python3"
  },
  "language_info": {
   "codemirror_mode": {
    "name": "ipython",
    "version": 3
   },
   "file_extension": ".py",
   "mimetype": "text/x-python",
   "name": "python",
   "nbconvert_exporter": "python",
   "pygments_lexer": "ipython3",
   "version": "3.7.7"
  }
 },
 "nbformat": 4,
 "nbformat_minor": 2
}
